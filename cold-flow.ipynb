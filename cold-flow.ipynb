{
 "metadata": {
  "language_info": {
   "codemirror_mode": {
    "name": "ipython",
    "version": 3
   },
   "file_extension": ".py",
   "mimetype": "text/x-python",
   "name": "python",
   "nbconvert_exporter": "python",
   "pygments_lexer": "ipython3",
   "version": "3.8.2"
  },
  "orig_nbformat": 2,
  "kernelspec": {
   "name": "python382jvsc74a57bd0082e9a3bcad0a290d0001e938aa60b99250c6c2ef33a923c00b70f9826caf4b7",
   "display_name": "Python 3.8.2 64-bit ('3.8')"
  },
  "metadata": {
   "interpreter": {
    "hash": "082e9a3bcad0a290d0001e938aa60b99250c6c2ef33a923c00b70f9826caf4b7"
   }
  }
 },
 "nbformat": 4,
 "nbformat_minor": 2,
 "cells": [
  {
   "source": [
    "## Geometry Overview\n",
    "\n",
    "Flow cross section ![cross-section](cold-flow-cross-section-meters.png)\n",
    "<img src=\"./cold-flow-torch-overview.png\" style=\"height:250px;\" />\n",
    "<img src=\"./new-endcap-inlet-only.png\" style=\"height:250px;\" />\n",
    "<img src=\"./channel-sizes.png\" style=height:300px;\" />\n",
    "<img src=\"./new-endcap-inlet-angle.png\" style=\"height:300px;\" />\n"
   ],
   "cell_type": "markdown",
   "metadata": {}
  },
  {
   "source": [],
   "cell_type": "markdown",
   "metadata": {}
  },
  {
   "source": [
    "### Parameters for Cold-Flow Validation #1\n"
   ],
   "cell_type": "markdown",
   "metadata": {}
  },
  {
   "cell_type": "code",
   "execution_count": 10,
   "metadata": {},
   "outputs": [],
   "source": [
    "import math\n",
    "torchDiam        = 0.0561         # {m}\n",
    "torchLength      = 0.3548         # {m}\n",
    "exitAngle        = 49.0           # {degr}\n",
    "volFlowRate_slpm = 40.0           # {slpm} volumetric flow rate\n",
    "inletChannelSide = 0.0012         # {m} - length of one side of square channel (normal to flow)\n",
    "rho              = 1.225          # {kg/m^3} - air"
   ]
  },
  {
   "source": [
    "###  Torch inlet conditions"
   ],
   "cell_type": "markdown",
   "metadata": {}
  },
  {
   "cell_type": "code",
   "execution_count": 11,
   "metadata": {},
   "outputs": [
    {
     "output_type": "stream",
     "name": "stdout",
     "text": [
      "Average Inlet velocity = 115.7407 (m/s)\n"
     ]
    }
   ],
   "source": [
    "#inletArea          = 4*2.273e-6               # m^2 (4 diamond shaped inlets) - need normal area TODO.  \n",
    "inletArea          = 4*(inletChannelSide)**2   #  {m^2}\n",
    "slpm_si_conversion = 1/60000                   # 1 m^3/sec = 60000 slpm\n",
    "\n",
    "# convert flow rate to {m^3/s}\n",
    "volFlowRate        = volFlowRate_slpm*slpm_si_conversion\n",
    "\n",
    "avgInletVel        = volFlowRate / inletArea\n",
    "print(\"Average Inlet velocity = %.4f (m/s)\" % avgInletVel)"
   ]
  },
  {
   "source": [
    "### Approximate torch axial velocity and traversal time"
   ],
   "cell_type": "markdown",
   "metadata": {}
  },
  {
   "cell_type": "code",
   "execution_count": 12,
   "metadata": {},
   "outputs": [
    {
     "output_type": "stream",
     "name": "stdout",
     "text": [
      "Nominal axial velocity estimate = 0.2697 (m/s)\nTime for traversal              = 1.315  (s)\n"
     ]
    }
   ],
   "source": [
    "axialVel    = inletArea * avgInletVel / (torchDiam**2*math.pi/4)\n",
    "triptime    = torchLength / axialVel\n",
    "print(\"Nominal axial velocity estimate = %.4f (m/s)\" % axialVel)\n",
    "print(\"Time for traversal              = %.3f  (s)\"  % triptime)"
   ]
  },
  {
   "source": [
    "### Project inlet velocity components based in channel angle orientation"
   ],
   "cell_type": "markdown",
   "metadata": {}
  },
  {
   "cell_type": "code",
   "execution_count": 13,
   "metadata": {},
   "outputs": [
    {
     "output_type": "stream",
     "name": "stdout",
     "text": [
      "Tangential inlet velocity = 87.350646 (m/s)\nNormal     inlet velocity = 75.932758 (m/s)\n"
     ]
    }
   ],
   "source": [
    "tangVel   = avgInletVel*math.sin(math.radians(exitAngle))\n",
    "normalVel = avgInletVel*math.cos(math.radians(exitAngle))\n",
    "print(\"Tangential inlet velocity = %.6f (m/s)\" % tangVel)\n",
    "print(\"Normal     inlet velocity = %.6f (m/s)\" % normalVel)"
   ]
  },
  {
   "cell_type": "code",
   "execution_count": 14,
   "metadata": {},
   "outputs": [
    {
     "output_type": "stream",
     "name": "stdout",
     "text": [
      "115.7407\n"
     ]
    }
   ],
   "source": [
    "print(\"%.4f\" % math.sqrt(tangVel*tangVel + normalVel*normalVel))"
   ]
  },
  {
   "source": [
    "### Approximate time for axial traversal"
   ],
   "cell_type": "markdown",
   "metadata": {}
  },
  {
   "cell_type": "code",
   "execution_count": 15,
   "metadata": {},
   "outputs": [
    {
     "output_type": "stream",
     "name": "stdout",
     "text": [
      "# iters = 9158304\nsimulation time = 274.75 (hours)\nsimulation time = 11.45 (days)\n"
     ]
    }
   ],
   "source": [
    "dt = 1.4364e-7\n",
    "#dt = 2.394e-7\n",
    "time_per_iter = 0.108\n",
    "\n",
    "iters = triptime / dt\n",
    "simTime = float(iters*time_per_iter)\n",
    "print(\"# iters = %i\" % iters)\n",
    "print(\"simulation time = %.2f (hours)\" % (simTime/3600.))\n",
    "print(\"simulation time = %.2f (days)\" % (simTime/(24*3600)))"
   ]
  },
  {
   "cell_type": "code",
   "execution_count": null,
   "metadata": {},
   "outputs": [],
   "source": []
  }
 ]
}